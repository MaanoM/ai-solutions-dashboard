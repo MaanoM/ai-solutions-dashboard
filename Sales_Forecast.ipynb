{
 "cells": [
  {
   "cell_type": "code",
   "execution_count": 1,
   "id": "d76b53f8",
   "metadata": {},
   "outputs": [],
   "source": [
    "# ...in a Jupyter notebook or script...\n",
    "import pandas as pd\n",
    "from statsmodels.tsa.holtwinters import ExponentialSmoothing"
   ]
  },
  {
   "cell_type": "code",
   "execution_count": 2,
   "id": "e2d5e39f",
   "metadata": {},
   "outputs": [
    {
     "name": "stdout",
     "output_type": "stream",
     "text": [
      "(500000, 12)\n"
     ]
    }
   ],
   "source": [
    "\n",
    "df = pd.read_csv('ai_solutions_web_sales_logs.csv', parse_dates=['date_of_sale'], dayfirst=True)\n",
    "print(df.shape)\n",
    "df['month'] = df['date_of_sale'].dt.to_period('M')"
   ]
  },
  {
   "cell_type": "code",
   "execution_count": 3,
   "id": "f00792d0",
   "metadata": {},
   "outputs": [
    {
     "name": "stderr",
     "output_type": "stream",
     "text": [
      "c:\\Users\\maanom\\OneDrive - letshegogroup\\AI Solutions\\CET333\\Lib\\site-packages\\statsmodels\\tsa\\holtwinters\\model.py:918: ConvergenceWarning: Optimization failed to converge. Check mle_retvals.\n",
      "  warnings.warn(\n"
     ]
    }
   ],
   "source": [
    "# Prepare monthly sales data\n",
    "monthly_sales = df.groupby('month')['cost'].sum().reset_index()\n",
    "\n",
    "if len(monthly_sales) >= 24:  # Require at least 2 years for monthly seasonality\n",
    "    monthly_model = ExponentialSmoothing(\n",
    "        monthly_sales['cost'],\n",
    "        trend='add',\n",
    "        seasonal='add',\n",
    "        seasonal_periods=12\n",
    "    )\n",
    "    monthly_fit = monthly_model.fit()\n",
    "    # Forecast for Jan 2025 to Aug 2025 (8 months)\n",
    "    monthly_forecast_index = pd.period_range('2025-01', '2025-08', freq='M')\n",
    "    monthly_forecast = monthly_fit.predict(\n",
    "        start=monthly_forecast_index[0].ordinal - monthly_sales['month'].iloc[0].ordinal,\n",
    "        end=monthly_forecast_index[-1].ordinal - monthly_sales['month'].iloc[0].ordinal\n",
    "    )\n",
    "    monthly_forecast_df = pd.DataFrame({\n",
    "        'month': monthly_forecast_index,\n",
    "        'forecast': monthly_forecast.values\n",
    "    })\n",
    "    monthly_sales['forecast'] = monthly_fit.fittedvalues\n",
    "    monthly_sales.to_csv('monthly_actuals.csv', index=False)\n",
    "    monthly_forecast_df.to_csv('monthly_forecast.csv', index=False)\n",
    "else:\n",
    "    print(\"Not enough data for seasonal forecasting (need at least 24 months).\")\n"
   ]
  },
  {
   "cell_type": "code",
   "execution_count": 4,
   "id": "73a66d5f",
   "metadata": {},
   "outputs": [
    {
     "name": "stdout",
     "output_type": "stream",
     "text": [
      "Monthly Validation MAPE: 9.77%\n",
      "Monthly Validation Accuracy: 90.23%\n",
      "Monthly Training Accuracy: 89.64%\n"
     ]
    },
    {
     "name": "stderr",
     "output_type": "stream",
     "text": [
      "c:\\Users\\maanom\\OneDrive - letshegogroup\\AI Solutions\\CET333\\Lib\\site-packages\\statsmodels\\tsa\\holtwinters\\model.py:918: ConvergenceWarning: Optimization failed to converge. Check mle_retvals.\n",
      "  warnings.warn(\n"
     ]
    }
   ],
   "source": [
    "from sklearn.metrics import mean_absolute_percentage_error\n",
    " \n",
    "# Split the last 6 months as a validation set for monthly sales\n",
    "train_monthly = monthly_sales.iloc[:-6]\n",
    "valid_monthly = monthly_sales.iloc[-6:]\n",
    " \n",
    "# Refit the model on the training set only\n",
    "monthly_model_val = ExponentialSmoothing(\n",
    "    train_monthly['cost'],\n",
    "    trend='add',\n",
    "    seasonal='add',\n",
    "    seasonal_periods=12\n",
    ")\n",
    "monthly_fit_val = monthly_model_val.fit()\n",
    " \n",
    "# Forecast for the validation period\n",
    "monthly_forecast_val = monthly_fit_val.forecast(6)\n",
    " \n",
    "# Calculate MAPE on the validation set\n",
    "monthly_val_mape = mean_absolute_percentage_error(valid_monthly['cost'], monthly_forecast_val)\n",
    "print(f\"Monthly Validation MAPE: {monthly_val_mape:.2%}\")\n",
    "MVAPE = 1 - monthly_val_mape\n",
    "print(f\"Monthly Validation Accuracy: {MVAPE:.2%}\")\n",
    "# Calculate training MAPE for monthly model\n",
    "monthly_mape = mean_absolute_percentage_error(monthly_sales['cost'], monthly_sales['forecast'])\n",
    "MTVAPE = 1 - monthly_mape\n",
    "print(f\"Monthly Training Accuracy: {MTVAPE:.2%}\")\n",
    "\n"
   ]
  },
  {
   "cell_type": "code",
   "execution_count": 5,
   "id": "77fbae98",
   "metadata": {},
   "outputs": [
    {
     "data": {
      "text/plain": [
       "37"
      ]
     },
     "execution_count": 5,
     "metadata": {},
     "output_type": "execute_result"
    }
   ],
   "source": [
    "len(monthly_sales)"
   ]
  },
  {
   "cell_type": "code",
   "execution_count": 6,
   "id": "3046169c",
   "metadata": {},
   "outputs": [
    {
     "name": "stderr",
     "output_type": "stream",
     "text": [
      "c:\\Users\\maanom\\OneDrive - letshegogroup\\AI Solutions\\CET333\\Lib\\site-packages\\statsmodels\\tsa\\holtwinters\\model.py:918: ConvergenceWarning: Optimization failed to converge. Check mle_retvals.\n",
      "  warnings.warn(\n",
      "c:\\Users\\maanom\\OneDrive - letshegogroup\\AI Solutions\\CET333\\Lib\\site-packages\\statsmodels\\tsa\\holtwinters\\model.py:918: ConvergenceWarning: Optimization failed to converge. Check mle_retvals.\n",
      "  warnings.warn(\n",
      "c:\\Users\\maanom\\OneDrive - letshegogroup\\AI Solutions\\CET333\\Lib\\site-packages\\statsmodels\\tsa\\holtwinters\\model.py:918: ConvergenceWarning: Optimization failed to converge. Check mle_retvals.\n",
      "  warnings.warn(\n",
      "c:\\Users\\maanom\\OneDrive - letshegogroup\\AI Solutions\\CET333\\Lib\\site-packages\\statsmodels\\tsa\\holtwinters\\model.py:918: ConvergenceWarning: Optimization failed to converge. Check mle_retvals.\n",
      "  warnings.warn(\n",
      "c:\\Users\\maanom\\OneDrive - letshegogroup\\AI Solutions\\CET333\\Lib\\site-packages\\statsmodels\\tsa\\holtwinters\\model.py:918: ConvergenceWarning: Optimization failed to converge. Check mle_retvals.\n",
      "  warnings.warn(\n",
      "c:\\Users\\maanom\\OneDrive - letshegogroup\\AI Solutions\\CET333\\Lib\\site-packages\\statsmodels\\tsa\\holtwinters\\model.py:918: ConvergenceWarning: Optimization failed to converge. Check mle_retvals.\n",
      "  warnings.warn(\n"
     ]
    }
   ],
   "source": [
    "# For each salesperson\n",
    "for sp in df['salesperson'].unique():\n",
    "    sp_sales = df[df['salesperson'] == sp].groupby('month')['cost'].sum().reset_index()\n",
    "    if len(sp_sales) > 12:  # Only forecast if enough data\n",
    "        model = ExponentialSmoothing(sp_sales['cost'], trend='add', seasonal='add', seasonal_periods=12)\n",
    "        fit = model.fit()\n",
    "        forecast = fit.forecast(6)\n",
    "        forecast_df = pd.DataFrame({\n",
    "            'month': pd.period_range(sp_sales['month'].iloc[-1]+1, periods=6, freq='M'),\n",
    "            'forecast': forecast\n",
    "        })\n",
    "        sp_sales['forecast'] = fit.fittedvalues\n",
    "        sp_sales.to_csv(f'monthly_actuals_{sp}.csv', index=False)\n",
    "        forecast_df.to_csv(f'monthly_forecast_{sp}.csv', index=False)"
   ]
  },
  {
   "cell_type": "code",
   "execution_count": 7,
   "id": "6b7a000a",
   "metadata": {},
   "outputs": [
    {
     "name": "stderr",
     "output_type": "stream",
     "text": [
      "c:\\Users\\maanom\\OneDrive - letshegogroup\\AI Solutions\\CET333\\Lib\\site-packages\\statsmodels\\tsa\\holtwinters\\model.py:918: ConvergenceWarning: Optimization failed to converge. Check mle_retvals.\n",
      "  warnings.warn(\n"
     ]
    }
   ],
   "source": [
    "import os\n",
    "\n",
    "# Create output directory if it doesn't exist\n",
    "output_dir = \"weekly_outputs\"\n",
    "os.makedirs(output_dir, exist_ok=True)\n",
    "\n",
    "# Prepare weekly actuals and forecasts for all sales\n",
    "df['week'] = df['date_of_sale'].dt.to_period('W')\n",
    "weekly_sales = df.groupby('week')['cost'].sum().reset_index()\n",
    "\n",
    "if len(weekly_sales) >= 104:  # Require at least 2 full years for weekly seasonality\n",
    "    model = ExponentialSmoothing(weekly_sales['cost'], trend='add', seasonal='add', seasonal_periods=52)\n",
    "    fit = model.fit()\n",
    "    forecast = fit.forecast(6)\n",
    "    forecast_df = pd.DataFrame({\n",
    "        'week': pd.period_range(weekly_sales['week'].iloc[-1]+1, periods=6, freq='W'),\n",
    "        'forecast': forecast\n",
    "    })\n",
    "    weekly_sales['forecast'] = fit.fittedvalues\n",
    "    weekly_sales.to_csv(os.path.join(output_dir, 'weekly_actuals.csv'), index=False)\n",
    "    forecast_df.to_csv(os.path.join(output_dir, 'weekly_forecast.csv'), index=False)\n",
    "else:\n",
    "    print(\"Not enough data for seasonal weekly forecasting (need at least 104 weeks).\")"
   ]
  },
  {
   "cell_type": "code",
   "execution_count": 8,
   "id": "b16e3f78",
   "metadata": {},
   "outputs": [
    {
     "name": "stdout",
     "output_type": "stream",
     "text": [
      "Mean Absolute Percentage Error (MAPE): 2.14%\n",
      "Validation Accuracy: 97.86%\n"
     ]
    }
   ],
   "source": [
    "from sklearn.metrics import mean_absolute_percentage_error\n",
    "\n",
    "# Calculate MAPE for the training period (actuals vs fitted values)\n",
    "mape = mean_absolute_percentage_error(weekly_sales['cost'], weekly_sales['forecast'])\n",
    "print(f\"Mean Absolute Percentage Error (MAPE): {mape:.2%}\")\n",
    "accuracy = 1 - mape\n",
    "print(f\"Validation Accuracy: {accuracy:.2%}\")"
   ]
  },
  {
   "cell_type": "code",
   "execution_count": 9,
   "id": "b04c7a4c",
   "metadata": {},
   "outputs": [
    {
     "name": "stdout",
     "output_type": "stream",
     "text": [
      "Validation MAPE: 8.86%\n"
     ]
    },
    {
     "name": "stderr",
     "output_type": "stream",
     "text": [
      "c:\\Users\\maanom\\OneDrive - letshegogroup\\AI Solutions\\CET333\\Lib\\site-packages\\statsmodels\\tsa\\holtwinters\\model.py:918: ConvergenceWarning: Optimization failed to converge. Check mle_retvals.\n",
      "  warnings.warn(\n"
     ]
    }
   ],
   "source": [
    "from sklearn.metrics import mean_absolute_percentage_error\n",
    "\n",
    "# A MAPE of 4.81% indicates your model fits the training data very well, but it could be a sign of overfitting if the model is too closely following noise in the data.\n",
    "# \n",
    "\n",
    "# Example: Split the last 6 weeks as a validation set\n",
    "train = weekly_sales.iloc[:-6]\n",
    "valid = weekly_sales.iloc[-6:]\n",
    "\n",
    "# Refit the model on the training set only\n",
    "model_val = ExponentialSmoothing(train['cost'], trend='add', seasonal='add', seasonal_periods=52)\n",
    "fit_val = model_val.fit()\n",
    "\n",
    "# Forecast for the validation period\n",
    "forecast_val = fit_val.forecast(6)\n",
    "\n",
    "val_mape = mean_absolute_percentage_error(valid['cost'], forecast_val)\n",
    "print(f\"Validation MAPE: {val_mape:.2%}\")\n",
    "\n",
    "# If validation MAPE is much higher than training MAPE, your model may be overfitting.\n",
    "# To mitigate overfitting:\n",
    "# - Try a simpler model (remove trend or seasonal components)\n",
    "# - Use regularization (if available)\n",
    "# - Aggregate data to reduce noise\n",
    "# - Ensure enough data for each seasonal cycle"
   ]
  },
  {
   "cell_type": "code",
   "execution_count": 10,
   "id": "a2ce7d0d",
   "metadata": {},
   "outputs": [
    {
     "name": "stdout",
     "output_type": "stream",
     "text": [
      "Validation Accuracy: 91.14%\n"
     ]
    }
   ],
   "source": [
    "accuracy = 1 - val_mape\n",
    "print(f\"Validation Accuracy: {accuracy:.2%}\")"
   ]
  }
 ],
 "metadata": {
  "kernelspec": {
   "display_name": "CET333",
   "language": "python",
   "name": "python3"
  },
  "language_info": {
   "codemirror_mode": {
    "name": "ipython",
    "version": 3
   },
   "file_extension": ".py",
   "mimetype": "text/x-python",
   "name": "python",
   "nbconvert_exporter": "python",
   "pygments_lexer": "ipython3",
   "version": "3.11.9"
  }
 },
 "nbformat": 4,
 "nbformat_minor": 5
}
